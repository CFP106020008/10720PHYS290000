# -*- coding: utf-8 -*-
"""
Created on Thu Mar 28 16:34:55 2019

@author: Julius 本機
"""
import numpy as np
import matplotlib.pyplot as plt

n = 1000
m = 1
dm = 1
k = 1000

M_S = np.ones(n)
M_S = m * M_S

x = np.ones(k)
'''
#可負債模式
for i in x:
    a = np.random.randint(1,n)
    b = np.random.randint(1,n)
    if a==b:
        M_S[a] =  M_S[a]
        M_S[b] =  M_S[b]
    else:
        M_S[a] =  M_S[a] - dm
        M_S[b] =  M_S[b] + dm
        
plt.hist(M_S)
plt.show()
'''
#強制退出模式
for i in x:
    a = np.random.randint(1,n)
    b = np.random.randint(1,n)
    if a==b:
        M_S[a] =  M_S[a]
        M_S[b] =  M_S[b]
    else:
        if M_S[a] <= 0 or M_S[b] <= 0:
            M_S[a] =  M_S[a]
            M_S[b] =  M_S[b]
        else:
            M_S[a] =  M_S[a] - dm
            M_S[b] =  M_S[b] + dm

plt.hist(M_S)
plt.show()