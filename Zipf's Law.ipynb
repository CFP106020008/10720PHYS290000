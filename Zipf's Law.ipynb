# -*- coding: utf-8 -*-
"""
Created on Thu Mar 28 15:34:51 2019

@author: Julius 本機
"""
import matplotlib.pyplot as plt
import numpy as np

fp = open('Alice.txt','r',encoding='UTF-8')

word_list = []

for line in fp.readlines():
    words = line.split()
    word_list = word_list + words

count = {}

for i in word_list:
    if i in count.keys():
        count[i] = count[i] + 1
    else:
        count.update({i:1})

final_2 = []
for i in count:
    final_2.append(count[i]) 

final_2.sort()
final_2.reverse()
plt.loglog(range(len(final_2)),final_2)
plt.show()

plt.hist(final_2,log=True,bins=1000)
plt.xscale('log')
plt.show()


