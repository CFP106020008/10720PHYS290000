# -*- coding: utf-8 -*-
"""
Created on Thu Mar 28 15:34:51 2019

@author: Julius 本機
"""
import matplotlib.pyplot as plt
import numpy as np

fp = open('Alice.txt','r',encoding='UTF-8')

word_list = []

for line in fp.readlines():
    words = line.split()
    word_list = word_list + words

count = {}

for i in word_list:
    if i in count.keys():
        count[i] = count[i] + 1
    else:
        count.update({i:1})

final_2 = []
for i in count:
    final_2.append(count[i]) 

final_2.sort()
final_2.reverse()

plt.loglog(range(len(final_2)),final_2)
'''
hist = plt.hist(final_2,log=True,bins=1000)
plt.xscale('log')
plt.yscale('log')
#plt.show()

dx = (hist[1][1]-hist[1][0])
bin_center = np.array(hist[1][0:-1]) + dx/2
print(bin_center)

from scipy import optimize

def test_func(x,amp):
    return amp*np.exp(-x/1)

params, params_covariance = optimize.curve_fit(test_func,bin_center,hist[0])
print(params,params_covariance)

fit = plt.loglog(bin_center,test_func(bin_center, params[0]),"r*",label = 'Fitted function')
plt.xlabel("Money")
plt.ylabel("Number of students")
plt.show()
'''
#bin_center = list(range(1,len(final_2)+1))
bin_center = np.linspace(1,len(final_2)+1,len(final_2))
from scipy import optimize

def func(x,amp,alpha):
    return amp*x**alpha

params, params_covariance = optimize.curve_fit(func,bin_center,final_2)

print('amp = '+str(params[0]))
print('alpha = '+str(params[1]))
print('params_covariance' + str(params_covariance))

fit = plt.loglog(bin_center,func(bin_center, params[0],params[1]),"r*",label = 'Fitted function')
plt.xlabel("Money")
plt.ylabel("Number of students")
plt.show()

